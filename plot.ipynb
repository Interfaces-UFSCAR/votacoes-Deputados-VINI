{
 "cells": [
  {
   "cell_type": "code",
   "execution_count": 21,
   "metadata": {},
   "outputs": [],
   "source": [
    "from forceatlas2 import forceatlas2\n",
    "import networkx as nx\n",
    "import matplotlib.pyplot as plt\n",
    "import ipysigma as sigma\n",
    "import pickle\n",
    "import numpy as np\n",
    "import pandas as pd"
   ]
  },
  {
   "cell_type": "markdown",
   "metadata": {},
   "source": [
    "# raw"
   ]
  },
  {
   "cell_type": "code",
   "execution_count": 22,
   "metadata": {},
   "outputs": [],
   "source": [
    "with open('data/raw.pkl', 'rb') as file:\n",
    "    G = pickle.load(file)\n"
   ]
  },
  {
   "cell_type": "code",
   "execution_count": 23,
   "metadata": {},
   "outputs": [
    {
     "data": {
      "text/plain": [
       "NodeDataView({'74856': {'nome': 'Laura Carneiro', 'partido': 'PSD', 'uf': 'RJ', 'condicao': 'Titular'}, '74858': {'nome': 'Lindbergh Farias', 'partido': 'PT', 'uf': 'RJ', 'condicao': 'Titular'}, '141456': {'nome': 'Jilmar Tatto', 'partido': 'PT', 'uf': 'SP', 'condicao': 'Titular'}, '160161': {'nome': 'Marcelo Queiroz', 'partido': 'PP', 'uf': 'RJ', 'condicao': 'Titular'}, '178896': {'nome': 'Newton Cardoso Jr', 'partido': 'MDB', 'uf': 'MG', 'condicao': 'Titular'}, '178983': {'nome': 'Marcio Alvino', 'partido': 'PL', 'uf': 'SP', 'condicao': 'Titular'}, '188097': {'nome': 'Merlong Solano', 'partido': 'PT', 'uf': 'PI', 'condicao': 'Efetivado'}, '198783': {'nome': 'Emanuel Pinheiro Neto', 'partido': 'MDB', 'uf': 'MT', 'condicao': 'Titular'}, '204476': {'nome': 'Chiquinho Brazão', 'partido': 'S.PART.', 'uf': 'RJ', 'condicao': 'Titular'}, '204486': {'nome': 'Mauro Benevides Filho', 'partido': 'PDT', 'uf': 'CE', 'condicao': 'Titular'}, '204491': {'nome': 'Gilberto Abramo', 'partido': 'REPUBLICANOS', 'uf': 'MG', 'condicao': 'Titular'}, '204492': {'nome': 'Paulo Guedes', 'partido': 'PT', 'uf': 'MG', 'condicao': 'Titular'}, '204496': {'nome': 'Celso Sabino', 'partido': 'UNIÃO', 'uf': 'PA', 'condicao': 'Titular'}, '204526': {'nome': 'Luiz Philippe de Orleans e Bragança', 'partido': 'PL', 'uf': 'SP', 'condicao': 'Titular'}, '204550': {'nome': 'Júnior Mano', 'partido': 'PL', 'uf': 'CE', 'condicao': 'Titular'}, '204573': {'nome': 'Otto Alencar Filho', 'partido': 'PSD', 'uf': 'BA', 'condicao': 'Titular'}, '209189': {'nome': 'Joseildo Ramos', 'partido': 'PT', 'uf': 'BA', 'condicao': 'Titular'}, '220548': {'nome': 'Camila Jara', 'partido': 'PT', 'uf': 'MS', 'condicao': 'Titular'}, '220560': {'nome': 'Thiago de Joaldo', 'partido': 'PP', 'uf': 'SE', 'condicao': 'Titular'}, '220564': {'nome': 'Yandra Moura', 'partido': 'UNIÃO', 'uf': 'SE', 'condicao': 'Titular'}, '220593': {'nome': 'Abilio Brunini', 'partido': 'PL', 'uf': 'MT', 'condicao': 'Titular'}, '220604': {'nome': 'Marcos Tavares', 'partido': 'PDT', 'uf': 'RJ', 'condicao': 'Titular'}, '220660': {'nome': 'Yury do Paredão', 'partido': 'MDB', 'uf': 'CE', 'condicao': 'Titular'}, '220700': {'nome': 'Florentino Neto', 'partido': 'PT', 'uf': 'PI', 'condicao': 'Titular'}, '220713': {'nome': 'Saullo Vianna', 'partido': 'UNIÃO', 'uf': 'AM', 'condicao': 'Titular'}, '220714': {'nome': 'Adail Filho', 'partido': 'REPUBLICANOS', 'uf': 'AM', 'condicao': 'Titular'}, '160510': {'nome': 'Luis Tibé', 'partido': 'AVANTE', 'uf': 'MG', 'condicao': 'Titular'}, '74398': {'nome': 'Maria do Rosário', 'partido': 'PT', 'uf': 'RS', 'condicao': 'Titular'}, '220704': {'nome': 'Carol Dartora', 'partido': 'PT', 'uf': 'PR', 'condicao': 'Titular'}, '220537': {'nome': 'Helena Lima', 'partido': 'MDB', 'uf': 'RR', 'condicao': 'Titular'}, '74848': {'nome': 'Jandira Feghali', 'partido': 'PCdoB', 'uf': 'RJ', 'condicao': 'Titular'}, '160642': {'nome': 'Pastor Eurico', 'partido': 'PL', 'uf': 'PE', 'condicao': 'Titular'}, '163321': {'nome': 'Ronaldo Nogueira', 'partido': 'REPUBLICANOS', 'uf': 'RS', 'condicao': 'Suplente'}, '204460': {'nome': 'Carlos Jordy', 'partido': 'PL', 'uf': 'RJ', 'condicao': 'Titular'}, '221148': {'nome': 'Alfredinho', 'partido': 'PT', 'uf': 'SP', 'condicao': 'Suplente'}, '178910': {'nome': 'Joaquim Passarinho', 'partido': 'PL', 'uf': 'PA', 'condicao': 'Titular'}, '220545': {'nome': 'Filipe Martins', 'partido': 'PL', 'uf': 'TO', 'condicao': 'Titular'}, '220532': {'nome': 'Rafael Prudente', 'partido': 'MDB', 'uf': 'DF', 'condicao': 'Titular'}, '220617': {'nome': 'Murillo Gouvea', 'partido': 'UNIÃO', 'uf': 'RJ', 'condicao': 'Titular'}, '74371': {'nome': 'Rubens Otoni', 'partido': 'PT', 'uf': 'GO', 'condicao': 'Titular'}, '204524': {'nome': 'Pinheirinho', 'partido': 'PP', 'uf': 'MG', 'condicao': 'Titular'}, '204422': {'nome': 'Ossesio Silva', 'partido': 'REPUBLICANOS', 'uf': 'PE', 'condicao': 'Suplente'}, '160610': {'nome': 'Valmir Assunção', 'partido': 'PT', 'uf': 'BA', 'condicao': 'Titular'}, '178854': {'nome': 'Elmar Nascimento', 'partido': 'UNIÃO', 'uf': 'BA', 'condicao': 'Titular'}, '161550': {'nome': 'Emidinho Madeira', 'partido': 'PL', 'uf': 'MG', 'condicao': 'Titular'}, '220542': {'nome': 'Alexandre Guimarães', 'partido': 'MDB', 'uf': 'TO', 'condicao': 'Titular'}, '220682': {'nome': 'Tadeu Veneri', 'partido': 'PT', 'uf': 'PR', 'condicao': 'Titular'}, '220556': {'nome': 'Ana Paula Lima', 'partido': 'PT', 'uf': 'SC', 'condicao': 'Titular'}, '220703': {'nome': 'Neto Carletto', 'partido': 'PP', 'uf': 'BA', 'condicao': 'Titular'}, '220618': {'nome': 'Sargento Portugal', 'partido': 'PODE', 'uf': 'RJ', 'condicao': 'Titular'}, '178986': {'nome': 'Nilto Tatto', 'partido': 'PT', 'uf': 'SP', 'condicao': 'Titular'}, '224333': {'nome': 'Welter', 'partido': 'PT', 'uf': 'PR', 'condicao': 'Efetivado'}, '204374': {'nome': 'Bia Kicis', 'partido': 'PL', 'uf': 'DF', 'condicao': 'Titular'}, '220591': {'nome': 'Meire Serafim', 'partido': 'UNIÃO', 'uf': 'AC', 'condicao': 'Titular'}, '220588': {'nome': 'Roberto Duarte', 'partido': 'REPUBLICANOS', 'uf': 'AC', 'condicao': 'Titular'}, '178993': {'nome': 'Carlos Henrique Gaguim', 'partido': 'UNIÃO', 'uf': 'TO', 'condicao': 'Titular'}, '160600': {'nome': 'Arthur Oliveira Maia', 'partido': 'UNIÃO', 'uf': 'BA', 'condicao': 'Titular'}, '221378': {'nome': 'Reginete Bispo', 'partido': 'PT', 'uf': 'RS', 'condicao': 'Suplente'}, '160538': {'nome': 'Bohn Gass', 'partido': 'PT', 'uf': 'RS', 'condicao': 'Titular'}, '178871': {'nome': 'Evair Vieira de Melo', 'partido': 'PP', 'uf': 'ES', 'condicao': 'Titular'}, '160599': {'nome': 'Dimas Fabiano', 'partido': 'PP', 'uf': 'MG', 'condicao': 'Titular'}, '226708': {'nome': 'Allan Garcês', 'partido': 'PP', 'uf': 'MA', 'condicao': 'Suplente'}, '204455': {'nome': 'Luiz Lima', 'partido': 'PL', 'uf': 'RJ', 'condicao': 'Titular'}, '220554': {'nome': 'Alexandre Lindenmeyer', 'partido': 'PT', 'uf': 'RS', 'condicao': 'Titular'}, '160512': {'nome': 'Aureo Ribeiro', 'partido': 'SOLIDARIEDADE', 'uf': 'RJ', 'condicao': 'Titular'}, '74428': {'nome': 'Mendonça Filho', 'partido': 'UNIÃO', 'uf': 'PE', 'condicao': 'Titular'}, '178866': {'nome': 'Luizianne Lins', 'partido': 'PT', 'uf': 'CE', 'condicao': 'Titular'}, '204480': {'nome': 'Rogério Correia', 'partido': 'PT', 'uf': 'MG', 'condicao': 'Titular'}, '204410': {'nome': 'Luisa Canziani', 'partido': 'PSD', 'uf': 'PR', 'condicao': 'Titular'}, '220650': {'nome': 'Paulo Alexandre Barbosa', 'partido': 'PSDB', 'uf': 'SP', 'condicao': 'Titular'}, '227323': {'nome': 'Luciano Galego', 'partido': 'PL', 'uf': 'MA', 'condicao': 'Suplente'}, '141411': {'nome': 'Dagoberto Nogueira', 'partido': 'PSDB', 'uf': 'MS', 'condicao': 'Titular'}, '204488': {'nome': 'Célio Studart', 'partido': 'PSD', 'uf': 'CE', 'condicao': 'Titular'}, '220662': {'nome': 'Lucas Ramos', 'partido': 'PSB', 'uf': 'PE', 'condicao': 'Titular'}, '220640': {'nome': 'Juliana Cardoso', 'partido': 'PT', 'uf': 'SP', 'condicao': 'Titular'}, '226179': {'nome': 'Gisela Simona', 'partido': 'UNIÃO', 'uf': 'MT', 'condicao': 'Suplente'}, '221328': {'nome': 'Adilson Barroso', 'partido': 'PL', 'uf': 'SP', 'condicao': 'Suplente'}, '220606': {'nome': 'Reimont', 'partido': 'PT', 'uf': 'RJ', 'condicao': 'Titular'}, '74454': {'nome': 'Eunício Oliveira', 'partido': 'MDB', 'uf': 'CE', 'condicao': 'Titular'}, '220540': {'nome': 'Duda Ramos', 'partido': 'MDB', 'uf': 'RR', 'condicao': 'Titular'}, '220674': {'nome': 'Dra. Alessandra Haber', 'partido': 'MDB', 'uf': 'PA', 'condicao': 'Titular'}, '178908': {'nome': 'Delegado Éder Mauro', 'partido': 'PL', 'uf': 'PA', 'condicao': 'Titular'}, '220631': {'nome': 'Samuel Viana', 'partido': 'REPUBLICANOS', 'uf': 'MG', 'condicao': 'Titular'}, '160548': {'nome': 'Jonas Donizette', 'partido': 'PSB', 'uf': 'SP', 'condicao': 'Titular'}, '204525': {'nome': 'Rosana Valle', 'partido': 'PL', 'uf': 'SP', 'condicao': 'Titular'}, '220644': {'nome': 'Rosangela Moro', 'partido': 'UNIÃO', 'uf': 'SP', 'condicao': 'Titular'}, '204361': {'nome': 'Carlos Chiodini', 'partido': 'MDB', 'uf': 'SC', 'condicao': 'Titular'}, '204497': {'nome': 'Júnior Ferrari', 'partido': 'PSD', 'uf': 'PA', 'condicao': 'Titular'}, '220599': {'nome': 'Marcelo Crivella', 'partido': 'REPUBLICANOS', 'uf': 'RJ', 'condicao': 'Titular'}, '204459': {'nome': 'Daniela do Waguinho', 'partido': 'UNIÃO', 'uf': 'RJ', 'condicao': 'Titular'}, '220582': {'nome': 'Daniel Barbosa', 'partido': 'PP', 'uf': 'AL', 'condicao': 'Titular'}, '220553': {'nome': 'Denise Pessôa', 'partido': 'PT', 'uf': 'RS', 'condicao': 'Titular'}, '220629': {'nome': 'Dandara', 'partido': 'PT', 'uf': 'MG', 'condicao': 'Titular'}, '220538': {'nome': 'Albuquerque', 'partido': 'REPUBLICANOS', 'uf': 'RR', 'condicao': 'Titular'}, '178860': {'nome': 'Paulo Azi', 'partido': 'UNIÃO', 'uf': 'BA', 'condicao': 'Titular'}, '178909': {'nome': 'Hélio Leite', 'partido': 'UNIÃO', 'uf': 'PA', 'condicao': 'Suplente'}, '204412': {'nome': 'Dr. Zacharias Calil', 'partido': 'UNIÃO', 'uf': 'GO', 'condicao': 'Titular'}, '220598': {'nome': 'Tarcísio Motta', 'partido': 'PSOL', 'uf': 'RJ', 'condicao': 'Titular'}, '220626': {'nome': 'Rafael Simoes', 'partido': 'UNIÃO', 'uf': 'MG', 'condicao': 'Titular'}, '220576': {'nome': 'Alfredo Gaspar', 'partido': 'UNIÃO', 'uf': 'AL', 'condicao': 'Titular'}, '204427': {'nome': 'Fernando Rodolfo', 'partido': 'PL', 'uf': 'PE', 'condicao': 'Titular'}, '220585': {'nome': 'Mersinho Lucena', 'partido': 'PP', 'uf': 'PB', 'condicao': 'Titular'}, '204409': {'nome': 'Daniel Trzeciak', 'partido': 'PSDB', 'uf': 'RS', 'condicao': 'Titular'}, '178933': {'nome': 'Sergio Souza', 'partido': 'MDB', 'uf': 'PR', 'condicao': 'Titular'}, '74060': {'nome': 'Daniel Almeida', 'partido': 'PCdoB', 'uf': 'BA', 'condicao': 'Titular'}, '220694': {'nome': 'Ricardo Maia', 'partido': 'MDB', 'uf': 'BA', 'condicao': 'Titular'}, '221338': {'nome': 'Professora Luciene Cavalcante', 'partido': 'PSOL', 'uf': 'SP', 'condicao': 'Suplente'}, '220706': {'nome': 'Padovani', 'partido': 'UNIÃO', 'uf': 'PR', 'condicao': 'Titular'}, '178934': {'nome': 'Toninho Wandscheer', 'partido': 'PP', 'uf': 'PR', 'condicao': 'Titular'}, '204388': {'nome': 'Bibo Nunes', 'partido': 'PL', 'uf': 'RS', 'condicao': 'Titular'}, '160635': {'nome': 'Ruy Carneiro', 'partido': 'PODE', 'uf': 'PB', 'condicao': 'Titular'}, '220621': {'nome': 'Sargento Gonçalves', 'partido': 'PL', 'uf': 'RN', 'condicao': 'Titular'}, '220619': {'nome': 'Delegado Ramagem', 'partido': 'PL', 'uf': 'RJ', 'condicao': 'Titular'}, '98148': {'nome': 'Cobalchini', 'partido': 'MDB', 'uf': 'SC', 'condicao': 'Titular'}, '220664': {'nome': 'Guilherme Uchoa', 'partido': 'PSB', 'uf': 'PE', 'condicao': 'Titular'}, '220602': {'nome': 'Dimas Gadelha', 'partido': 'PT', 'uf': 'RJ', 'condicao': 'Titular'}, '204495': {'nome': 'Airton Faleiro', 'partido': 'PT', 'uf': 'PA', 'condicao': 'Titular'}, '220659': {'nome': 'Dayany Bittencourt', 'partido': 'UNIÃO', 'uf': 'CE', 'condicao': 'Titular'}, '220657': {'nome': 'André Fernandes', 'partido': 'PL', 'uf': 'CE', 'condicao': 'Titular'}, '222142': {'nome': 'Coronel Telhada', 'partido': 'PP', 'uf': 'SP', 'condicao': 'Suplente'}, '73701': {'nome': 'Benedita da Silva', 'partido': 'PT', 'uf': 'RJ', 'condicao': 'Titular'}, '220665': {'nome': 'Clarissa Tércio', 'partido': 'PP', 'uf': 'PE', 'condicao': 'Titular'}, '160598': {'nome': 'Flávia Morais', 'partido': 'PDT', 'uf': 'GO', 'condicao': 'Titular'}, '74317': {'nome': 'Júlio Cesar', 'partido': 'PSD', 'uf': 'PI', 'condicao': 'Titular'}, '141421': {'nome': 'Eduardo da Fonte', 'partido': 'PP', 'uf': 'PE', 'condicao': 'Titular'}, '220587': {'nome': 'Gerlen Diniz', 'partido': 'PP', 'uf': 'AC', 'condicao': 'Titular'}, '160666': {'nome': 'Félix Mendonça Júnior', 'partido': 'PDT', 'uf': 'BA', 'condicao': 'Titular'}, '204394': {'nome': 'Gervásio Maia', 'partido': 'PSB', 'uf': 'PB', 'condicao': 'Titular'}, '220625': {'nome': 'Delegada Ione', 'partido': 'AVANTE', 'uf': 'MG', 'condicao': 'Titular'}, '204360': {'nome': 'Silvia Cristina', 'partido': 'PP', 'uf': 'RO', 'condicao': 'Titular'}, '178937': {'nome': 'Altineu Côrtes', 'partido': 'PL', 'uf': 'RJ', 'condicao': 'Titular'}, '182146': {'nome': 'Wolmer Araújo', 'partido': 'SOLIDARIEDADE', 'uf': 'MA', 'condicao': 'Suplente'}, '220580': {'nome': 'Professora Goreth', 'partido': 'PDT', 'uf': 'AP', 'condicao': 'Titular'}, '128760': {'nome': 'Paulo Marinho Jr', 'partido': 'PL', 'uf': 'MA', 'condicao': 'Suplente'}, '166402': {'nome': 'Magda Mofatto', 'partido': 'PRD', 'uf': 'GO', 'condicao': 'Titular'}, '205550': {'nome': 'Jorge Braz', 'partido': 'REPUBLICANOS', 'uf': 'RJ', 'condicao': 'Titular'}, '220669': {'nome': 'Lula da Fonte', 'partido': 'PP', 'uf': 'PE', 'condicao': 'Titular'}, '204396': {'nome': 'Vermelho', 'partido': 'PL', 'uf': 'PR', 'condicao': 'Titular'}, '220648': {'nome': 'Marangoni', 'partido': 'UNIÃO', 'uf': 'SP', 'condicao': 'Titular'}, '220673': {'nome': 'Delegado Caveira', 'partido': 'PL', 'uf': 'PA', 'condicao': 'Titular'}, '220696': {'nome': 'Ivoneide Caetano', 'partido': 'PT', 'uf': 'BA', 'condicao': 'Titular'}, '214694': {'nome': 'Jorge Goetten', 'partido': 'REPUBLICANOS', 'uf': 'SC', 'condicao': 'Titular'}, '220528': {'nome': 'Dr. Victor Linhalis', 'partido': 'PODE', 'uf': 'ES', 'condicao': 'Titular'}, '74084': {'nome': 'Raimundo Santos', 'partido': 'PSD', 'uf': 'PA', 'condicao': 'Titular'}, '204515': {'nome': 'André Janones', 'partido': 'AVANTE', 'uf': 'MG', 'condicao': 'Titular'}, '204533': {'nome': 'Idilvan Alencar', 'partido': 'PDT', 'uf': 'CE', 'condicao': 'Titular'}, '220645': {'nome': 'Erika Hilton', 'partido': 'PSOL', 'uf': 'SP', 'condicao': 'Titular'}, '220677': {'nome': 'Keniston Braga', 'partido': 'MDB', 'uf': 'PA', 'condicao': 'Titular'}, '220635': {'nome': 'Bruno Ganem', 'partido': 'PODE', 'uf': 'SP', 'condicao': 'Titular'}, '74262': {'nome': 'Carlos Sampaio', 'partido': 'PSD', 'uf': 'SP', 'condicao': 'Titular'}, '73692': {'nome': 'Osmar Terra', 'partido': 'MDB', 'uf': 'RS', 'condicao': 'Titular'}, '141458': {'nome': 'João Carlos Bacelar', 'partido': 'PL', 'uf': 'BA', 'condicao': 'Titular'}, '204482': {'nome': 'Euclydes Pettersen', 'partido': 'REPUBLICANOS', 'uf': 'MG', 'condicao': 'Titular'}, '220595': {'nome': 'Coronel Fernanda', 'partido': 'PL', 'uf': 'MT', 'condicao': 'Titular'}, '161440': {'nome': 'Pezenti', 'partido': 'MDB', 'uf': 'SC', 'condicao': 'Titular'}, '220661': {'nome': 'Matheus Noronha', 'partido': 'PL', 'uf': 'CE', 'condicao': 'Titular'}, '178985': {'nome': 'Miguel Lombardi', 'partido': 'PL', 'uf': 'SP', 'condicao': 'Titular'}, '92102': {'nome': 'Leur Lomanto Júnior', 'partido': 'UNIÃO', 'uf': 'BA', 'condicao': 'Titular'}, '220686': {'nome': 'Duarte Jr.', 'partido': 'PSB', 'uf': 'MA', 'condicao': 'Titular'}, '100689': {'nome': 'Hildo do Candango', 'partido': 'REPUBLICANOS', 'uf': 'GO', 'condicao': 'Suplente'}, '204508': {'nome': 'Igor Timo', 'partido': 'PODE', 'uf': 'MG', 'condicao': 'Titular'}, '165470': {'nome': 'Rodrigo Valadares', 'partido': 'UNIÃO', 'uf': 'SE', 'condicao': 'Titular'}, '178927': {'nome': 'Aliel Machado', 'partido': 'PV', 'uf': 'PR', 'condicao': 'Titular'}, '220584': {'nome': 'Murilo Galdino', 'partido': 'REPUBLICANOS', 'uf': 'PB', 'condicao': 'Titular'}, '220571': {'nome': 'Daniel Agrobom', 'partido': 'PL', 'uf': 'GO', 'condicao': 'Titular'}, '220583': {'nome': 'Delegado Fabio Costa', 'partido': 'PP', 'uf': 'AL', 'condicao': 'Titular'}, '133439': {'nome': 'André Figueiredo', 'partido': 'PDT', 'uf': 'CE', 'condicao': 'Titular'}, '178954': {'nome': 'Lucio Mosquini', 'partido': 'MDB', 'uf': 'RO', 'condicao': 'Titular'}, '220616': {'nome': 'Luciano Vieira', 'partido': 'REPUBLICANOS', 'uf': 'RJ', 'condicao': 'Titular'}, '160592': {'nome': 'Zeca Dirceu', 'partido': 'PT', 'uf': 'PR', 'condicao': 'Titular'}, '204404': {'nome': 'Lucas Redecker', 'partido': 'PSDB', 'uf': 'RS', 'condicao': 'Titular'}, '224117': {'nome': 'Gabriel Mota', 'partido': 'REPUBLICANOS', 'uf': 'RR', 'condicao': 'Efetivado'}, '138286': {'nome': 'Luciano Alves', 'partido': 'PSD', 'uf': 'PR', 'condicao': 'Suplente'}, '160604': {'nome': 'Pedro Uczai', 'partido': 'PT', 'uf': 'SC', 'condicao': 'Titular'}, '204351': {'nome': 'Dr. Luiz Ovando', 'partido': 'PP', 'uf': 'MS', 'condicao': 'Titular'}, '220672': {'nome': 'Henderson Pinto', 'partido': 'MDB', 'uf': 'PA', 'condicao': 'Titular'}, '220675': {'nome': 'Antônio Doido', 'partido': 'MDB', 'uf': 'PA', 'condicao': 'Titular'}, '74161': {'nome': 'Reginaldo Lopes', 'partido': 'PT', 'uf': 'MG', 'condicao': 'Titular'}, '141485': {'nome': 'Luiz Carlos Busato', 'partido': 'UNIÃO', 'uf': 'RS', 'condicao': 'Titular'}, '160559': {'nome': 'Alceu Moreira', 'partido': 'MDB', 'uf': 'RS', 'condicao': 'Titular'}, '178931': {'nome': 'Luciano Ducci', 'partido': 'PSB', 'uf': 'PR', 'condicao': 'Titular'}, '220569': {'nome': 'Silvye Alves', 'partido': 'UNIÃO', 'uf': 'GO', 'condicao': 'Titular'}, '220531': {'nome': 'Gilvan Maximo', 'partido': 'REPUBLICANOS', 'uf': 'DF', 'condicao': 'Titular'}, '220533': {'nome': 'Prof. Reginaldo Veras', 'partido': 'PV', 'uf': 'DF', 'condicao': 'Titular'}, '220539': {'nome': 'Defensor Stélio Dener', 'partido': 'REPUBLICANOS', 'uf': 'RR', 'condicao': 'Titular'}, '220655': {'nome': 'Mario Frias', 'partido': 'PL', 'uf': 'SP', 'condicao': 'Titular'}, '220688': {'nome': 'Dr. Francisco', 'partido': 'PT', 'uf': 'PI', 'condicao': 'Titular'}, '178873': {'nome': 'Helder Salomão', 'partido': 'PT', 'uf': 'ES', 'condicao': 'Titular'}, '220651': {'nome': 'Simone Marquetto', 'partido': 'MDB', 'uf': 'SP', 'condicao': 'Titular'}, '74376': {'nome': 'Vander Loubet', 'partido': 'PT', 'uf': 'MS', 'condicao': 'Titular'}, '160553': {'nome': 'Antonio Brito', 'partido': 'PSD', 'uf': 'BA', 'condicao': 'Titular'}, '160591': {'nome': 'Vinicius Gurgel', 'partido': 'PL', 'uf': 'AP', 'condicao': 'Titular'}, '210989': {'nome': 'Bruno Farias', 'partido': 'AVANTE', 'uf': 'MG', 'condicao': 'Titular'}, '220707': {'nome': 'Amanda Gentil', 'partido': 'PP', 'uf': 'MA', 'condicao': 'Titular'}, '220630': {'nome': 'Pedro Aihara', 'partido': 'PRD', 'uf': 'MG', 'condicao': 'Titular'}, '220551': {'nome': 'Franciane Bayer', 'partido': 'REPUBLICANOS', 'uf': 'RS', 'condicao': 'Titular'}, '220555': {'nome': 'Daiana Santos', 'partido': 'PCdoB', 'uf': 'RS', 'condicao': 'Titular'}, '220570': {'nome': 'Ismael Alexandrino', 'partido': 'PSD', 'uf': 'GO', 'condicao': 'Titular'}, '227310': {'nome': 'Silvio Antonio', 'partido': 'PL', 'uf': 'MA', 'condicao': 'Suplente'}, '141391': {'nome': 'Arnaldo Jardim', 'partido': 'CIDADANIA', 'uf': 'SP', 'condicao': 'Titular'}, '204411': {'nome': 'Filipe Barros', 'partido': 'PL', 'uf': 'PR', 'condicao': 'Titular'}, '204572': {'nome': 'Capitão Alberto Neto', 'partido': 'PL', 'uf': 'AM', 'condicao': 'Titular'}, '220526': {'nome': 'Gilvan da Federal', 'partido': 'PL', 'uf': 'ES', 'condicao': 'Titular'}, '204365': {'nome': 'Gilson Marques', 'partido': 'NOVO', 'uf': 'SC', 'condicao': 'Titular'}, '204553': {'nome': 'Pastor Sargento Isidório', 'partido': 'AVANTE', 'uf': 'BA', 'condicao': 'Titular'}, '220690': {'nome': 'Capitão Alden', 'partido': 'PL', 'uf': 'BA', 'condicao': 'Titular'}, '92699': {'nome': 'Fernando Monteiro', 'partido': 'PP', 'uf': 'PE', 'condicao': 'Titular'}, '103758': {'nome': 'Luciano Azevedo', 'partido': 'PSD', 'uf': 'RS', 'condicao': 'Suplente'}, '204398': {'nome': 'Felipe Francischini', 'partido': 'UNIÃO', 'uf': 'PR', 'condicao': 'Titular'}, '227275': {'nome': 'Mariana Carvalho', 'partido': 'REPUBLICANOS', 'uf': 'MA', 'condicao': 'Suplente'}, '74374': {'nome': 'Geraldo Resende', 'partido': 'PSDB', 'uf': 'MS', 'condicao': 'Titular'}, '73433': {'nome': 'Arlindo Chinaglia', 'partido': 'PT', 'uf': 'SP', 'condicao': 'Titular'}, '116379': {'nome': 'Darci de Matos', 'partido': 'PSD', 'uf': 'SC', 'condicao': 'Suplente'}, '220568': {'nome': 'Gustavo Gayer', 'partido': 'PL', 'uf': 'GO', 'condicao': 'Titular'}, '220574': {'nome': 'Cabo Gilberto Silva', 'partido': 'PL', 'uf': 'PB', 'condicao': 'Titular'}, '220656': {'nome': 'Fernanda Pessoa', 'partido': 'UNIÃO', 'uf': 'CE', 'condicao': 'Titular'}, '204364': {'nome': 'Eli Borges', 'partido': 'PL', 'uf': 'TO', 'condicao': 'Titular'}, '204539': {'nome': 'Hercílio Coelho Diniz', 'partido': 'MDB', 'uf': 'MG', 'condicao': 'Titular'}, '218086': {'nome': 'Ely Santos', 'partido': 'REPUBLICANOS', 'uf': 'SP', 'condicao': 'Suplente'}, '220607': {'nome': 'Max Lemos', 'partido': 'PDT', 'uf': 'RJ', 'condicao': 'Titular'}, '73604': {'nome': 'Rui Falcão', 'partido': 'PT', 'uf': 'SP', 'condicao': 'Titular'}, '204457': {'nome': 'Juninho do Pneu', 'partido': 'UNIÃO', 'uf': 'RJ', 'condicao': 'Titular'}, '204431': {'nome': 'Marcos Aurélio Sampaio', 'partido': 'PSD', 'uf': 'PI', 'condicao': 'Titular'}, '220594': {'nome': 'Coronel Assis', 'partido': 'UNIÃO', 'uf': 'MT', 'condicao': 'Titular'}, '74554': {'nome': 'José Rocha', 'partido': 'UNIÃO', 'uf': 'BA', 'condicao': 'Titular'}, '220611': {'nome': 'General Pazuello', 'partido': 'PL', 'uf': 'RJ', 'condicao': 'Titular'}, '220671': {'nome': 'Dilvanda Faro', 'partido': 'PT', 'uf': 'PA', 'condicao': 'Titular'}, '160558': {'nome': 'Paulo Freire Costa', 'partido': 'PL', 'uf': 'SP', 'condicao': 'Titular'}, '204416': {'nome': 'Sanderson', 'partido': 'PL', 'uf': 'RS', 'condicao': 'Titular'}, '217480': {'nome': 'Jones Moura', 'partido': 'PSD', 'uf': 'RJ', 'condicao': 'Suplente'}, '74467': {'nome': 'Damião Feliciano', 'partido': 'UNIÃO', 'uf': 'PB', 'condicao': 'Titular'}, '74537': {'nome': 'Claudio Cajado', 'partido': 'PP', 'uf': 'BA', 'condicao': 'Titular'}, '98615': {'nome': 'Ismael', 'partido': 'PSD', 'uf': 'SC', 'condicao': 'Titular'}, '160640': {'nome': 'Eros Biondini', 'partido': 'PL', 'uf': 'MG', 'condicao': 'Titular'}, '204481': {'nome': 'Dr. Jaziel', 'partido': 'PL', 'uf': 'CE', 'condicao': 'Titular'}, '91228': {'nome': 'Waldemar Oliveira', 'partido': 'AVANTE', 'uf': 'PE', 'condicao': 'Titular'}, '178843': {'nome': 'Marx Beltrão', 'partido': 'PP', 'uf': 'AL', 'condicao': 'Titular'}, '220603': {'nome': 'Dani Cunha', 'partido': 'UNIÃO', 'uf': 'RJ', 'condicao': 'Titular'}, '220596': {'nome': 'Amália Barros', 'partido': 'PL', 'uf': 'MT', 'condicao': 'Titular'}, '220685': {'nome': 'Paulo Litro', 'partido': 'PSD', 'uf': 'PR', 'condicao': 'Titular'}, '66385': {'nome': 'Julio Arcoverde', 'partido': 'PP', 'uf': 'PI', 'condicao': 'Titular'}, '204419': {'nome': 'Glaustin da Fokus', 'partido': 'PODE', 'uf': 'GO', 'condicao': 'Titular'}, '220623': {'nome': 'Duda Salabert', 'partido': 'PDT', 'uf': 'MG', 'condicao': 'Titular'}, '220590': {'nome': 'Coronel Ulysses', 'partido': 'UNIÃO', 'uf': 'AC', 'condicao': 'Titular'}, '204462': {'nome': 'Chris Tonietto', 'partido': 'PL', 'uf': 'RJ', 'condicao': 'Titular'}, '204541': {'nome': 'Eduardo Bismarck', 'partido': 'PDT', 'uf': 'CE', 'condicao': 'Titular'}, '204518': {'nome': 'Dr. Frederico', 'partido': 'PRD', 'uf': 'MG', 'condicao': 'Titular'}, '74273': {'nome': 'Jefferson Campos', 'partido': 'PL', 'uf': 'SP', 'condicao': 'Titular'}, '204406': {'nome': 'Pedro Westphalen', 'partido': 'PP', 'uf': 'RS', 'condicao': 'Titular'}, '143942': {'nome': 'Caio Vianna', 'partido': 'PSD', 'uf': 'RJ', 'condicao': 'Suplente'}, '220558': {'nome': 'Zé Trovão', 'partido': 'PL', 'uf': 'SC', 'condicao': 'Titular'}, '220670': {'nome': 'Iza Arruda', 'partido': 'MDB', 'uf': 'PE', 'condicao': 'Titular'}, '74283': {'nome': 'Vicentinho', 'partido': 'PT', 'uf': 'SP', 'condicao': 'Suplente'}, '74141': {'nome': 'Josias Gomes', 'partido': 'PT', 'uf': 'BA', 'condicao': 'Suplente'}, '204369': {'nome': 'Caroline de Toni', 'partido': 'PL', 'uf': 'SC', 'condicao': 'Titular'}, '220559': {'nome': 'Julia Zanatta', 'partido': 'PL', 'uf': 'SC', 'condicao': 'Titular'}, '221339': {'nome': 'Dr. Benjamim', 'partido': 'UNIÃO', 'uf': 'MA', 'condicao': 'Suplente'}, '136811': {'nome': 'Afonso Hamm', 'partido': 'PP', 'uf': 'RS', 'condicao': 'Titular'}, '220697': {'nome': 'Jadyel Alencar', 'partido': 'REPUBLICANOS', 'uf': 'PI', 'condicao': 'Titular'}, '141464': {'nome': 'José Airton Félix Cirilo', 'partido': 'PT', 'uf': 'CE', 'condicao': 'Titular'}, '220624': {'nome': 'Robinson Faria', 'partido': 'PL', 'uf': 'RN', 'condicao': 'Titular'}, '220668': {'nome': 'Maria Arraes', 'partido': 'SOLIDARIEDADE', 'uf': 'PE', 'condicao': 'Titular'}, '73778': {'nome': 'Luiz Carlos Hauly', 'partido': 'PODE', 'uf': 'PR', 'condicao': 'Titular'}, '141408': {'nome': 'Cleber Verde', 'partido': 'MDB', 'uf': 'MA', 'condicao': 'Titular'}, '178876': {'nome': 'Célio Silveira', 'partido': 'MDB', 'uf': 'GO', 'condicao': 'Titular'}, '220681': {'nome': 'Fábio Macedo', 'partido': 'PODE', 'uf': 'MA', 'condicao': 'Titular'}, '220708': {'nome': 'Gabriel Nunes', 'partido': 'PSD', 'uf': 'BA', 'condicao': 'Titular'}, '69871': {'nome': 'Bacelar', 'partido': 'PV', 'uf': 'BA', 'condicao': 'Titular'}, '141459': {'nome': 'João Maia', 'partido': 'PP', 'uf': 'RN', 'condicao': 'Titular'}, '204507': {'nome': 'Carla Zambelli', 'partido': 'PL', 'uf': 'SP', 'condicao': 'Titular'}, '219585': {'nome': 'Marco Brasil', 'partido': 'PP', 'uf': 'PR', 'condicao': 'Suplente'}, '220530': {'nome': 'Messias Donato', 'partido': 'REPUBLICANOS', 'uf': 'ES', 'condicao': 'Titular'}, '220546': {'nome': 'Rodolfo Nogueira', 'partido': 'PL', 'uf': 'MS', 'condicao': 'Titular'}, '220572': {'nome': 'Marussa Boldrin', 'partido': 'MDB', 'uf': 'GO', 'condicao': 'Titular'}, '160535': {'nome': 'Marcon', 'partido': 'PT', 'uf': 'RS', 'condicao': 'Titular'}, '220676': {'nome': 'Andreia Siqueira', 'partido': 'MDB', 'uf': 'PA', 'condicao': 'Titular'}, '74784': {'nome': 'Luiza Erundina', 'partido': 'PSOL', 'uf': 'SP', 'condicao': 'Titular'}, '220615': {'nome': 'Pastor Henrique Vieira', 'partido': 'PSOL', 'uf': 'RJ', 'condicao': 'Titular'}, '81055': {'nome': 'Márcio Jerry', 'partido': 'PCdoB', 'uf': 'MA', 'condicao': 'Titular'}, '220612': {'nome': 'Bebeto', 'partido': 'PP', 'uf': 'RJ', 'condicao': 'Titular'}, '74356': {'nome': 'Silas Câmara', 'partido': 'REPUBLICANOS', 'uf': 'AM', 'condicao': 'Titular'}, '157130': {'nome': 'Túlio Gadêlha', 'partido': 'REDE', 'uf': 'PE', 'condicao': 'Titular'}, '220695': {'nome': 'Rogéria Santos', 'partido': 'REPUBLICANOS', 'uf': 'BA', 'condicao': 'Titular'}, '160629': {'nome': 'Romero Rodrigues', 'partido': 'PODE', 'uf': 'PB', 'condicao': 'Titular'}, '204445': {'nome': 'Fernando Mineiro', 'partido': 'PT', 'uf': 'RN', 'condicao': 'Titular'}, '220550': {'nome': 'Mauricio Marcon', 'partido': 'PODE', 'uf': 'RS', 'condicao': 'Titular'}, '220557': {'nome': 'Daniela Reinehr', 'partido': 'PL', 'uf': 'SC', 'condicao': 'Titular'}, '89536': {'nome': 'Prof. Paulo Fernando', 'partido': 'REPUBLICANOS', 'uf': 'DF', 'condicao': 'Suplente'}, '204378': {'nome': 'Coronel Chrisóstomo', 'partido': 'PL', 'uf': 'RO', 'condicao': 'Titular'}, '220684': {'nome': 'Tião Medeiros', 'partido': 'PP', 'uf': 'PR', 'condicao': 'Titular'}, '152605': {'nome': 'Glauber Braga', 'partido': 'PSOL', 'uf': 'RJ', 'condicao': 'Titular'}, '220566': {'nome': 'Lêda Borges', 'partido': 'PSDB', 'uf': 'GO', 'condicao': 'Titular'}, '220613': {'nome': 'Roberto Monteiro Pai', 'partido': 'PL', 'uf': 'RJ', 'condicao': 'Titular'}, '123086': {'nome': 'Átila Lira', 'partido': 'PP', 'uf': 'PI', 'condicao': 'Titular'}, '204511': {'nome': 'David Soares', 'partido': 'UNIÃO', 'uf': 'SP', 'condicao': 'Titular'}, '220529': {'nome': 'Gilson Daniel', 'partido': 'PODE', 'uf': 'ES', 'condicao': 'Titular'}, '73801': {'nome': 'Renildo Calheiros', 'partido': 'PCdoB', 'uf': 'PE', 'condicao': 'Titular'}, '150418': {'nome': 'Márcio Marinho', 'partido': 'REPUBLICANOS', 'uf': 'BA', 'condicao': 'Titular'}, '153423': {'nome': 'Renilce Nicodemos', 'partido': 'MDB', 'uf': 'PA', 'condicao': 'Titular'}, '220666': {'nome': 'Coronel Meira', 'partido': 'PL', 'uf': 'PE', 'condicao': 'Titular'}, '141487': {'nome': 'Luiz Fernando Faria', 'partido': 'PSD', 'uf': 'MG', 'condicao': 'Titular'}, '204512': {'nome': 'Delegado Marcelo Freitas', 'partido': 'UNIÃO', 'uf': 'MG', 'condicao': 'Titular'}, '204528': {'nome': 'Adriana Ventura', 'partido': 'NOVO', 'uf': 'SP', 'condicao': 'Titular'}, '220632': {'nome': 'Ana Pimentel', 'partido': 'PT', 'uf': 'MG', 'condicao': 'Titular'}, '156190': {'nome': 'Marcel van Hattem', 'partido': 'NOVO', 'uf': 'RS', 'condicao': 'Titular'}, '204501': {'nome': 'Alencar Santana', 'partido': 'PT', 'uf': 'SP', 'condicao': 'Titular'}, '204426': {'nome': 'Carlos Veras', 'partido': 'PT', 'uf': 'PE', 'condicao': 'Titular'}, '220536': {'nome': 'Zé Haroldo Cathedral', 'partido': 'PSD', 'uf': 'RR', 'condicao': 'Titular'}, '220581': {'nome': 'Luciano Amaral', 'partido': 'PV', 'uf': 'AL', 'condicao': 'Titular'}, '223128': {'nome': 'Rodrigo Estacho', 'partido': 'PSD', 'uf': 'PR', 'condicao': 'Suplente'}, '74574': {'nome': 'Paulo Magalhães', 'partido': 'PSD', 'uf': 'BA', 'condicao': 'Titular'}, '80815': {'nome': 'Leo Prates', 'partido': 'PDT', 'uf': 'BA', 'condicao': 'Titular'}, '191923': {'nome': 'Flávio Nogueira', 'partido': 'PT', 'uf': 'PI', 'condicao': 'Titular'}, '204368': {'nome': 'Fabio Schiochet', 'partido': 'UNIÃO', 'uf': 'SC', 'condicao': 'Titular'}, '220620': {'nome': 'Rosângela Reis', 'partido': 'PL', 'uf': 'MG', 'condicao': 'Titular'}, '220667': {'nome': 'Pedro Campos', 'partido': 'PSB', 'uf': 'PE', 'condicao': 'Titular'}, '220701': {'nome': 'Delegado Matheus Laiola', 'partido': 'UNIÃO', 'uf': 'PR', 'condicao': 'Titular'}, '222429': {'nome': 'Luis Carlos Gomes', 'partido': 'REPUBLICANOS', 'uf': 'RJ', 'condicao': 'Suplente'}, '160673': {'nome': 'Giovani Cherini', 'partido': 'PL', 'uf': 'RS', 'condicao': 'Titular'}, '178966': {'nome': 'Geovania de Sá', 'partido': 'PSDB', 'uf': 'SC', 'condicao': 'Suplente'}, '220628': {'nome': 'Mauricio do Vôlei', 'partido': 'PL', 'uf': 'MG', 'condicao': 'Titular'}, '220654': {'nome': 'Delegado Paulo Bilynskyj', 'partido': 'PL', 'uf': 'SP', 'condicao': 'Titular'}, '74156': {'nome': 'Leonardo Monteiro', 'partido': 'PT', 'uf': 'MG', 'condicao': 'Titular'}, '74585': {'nome': 'Lincoln Portela', 'partido': 'PL', 'uf': 'MG', 'condicao': 'Titular'}, '178857': {'nome': 'Jorge Solla', 'partido': 'PT', 'uf': 'BA', 'condicao': 'Titular'}, '178970': {'nome': 'João Daniel', 'partido': 'PT', 'uf': 'SE', 'condicao': 'Titular'}, '220699': {'nome': 'Castro Neto', 'partido': 'PSD', 'uf': 'PI', 'condicao': 'Titular'}, '204358': {'nome': 'Beto Pereira', 'partido': 'PSDB', 'uf': 'MS', 'condicao': 'Titular'}, '220578': {'nome': 'Josenildo', 'partido': 'PDT', 'uf': 'AP', 'condicao': 'Titular'}, '171786': {'nome': 'Miguel Ângelo', 'partido': 'PT', 'uf': 'MG', 'condicao': 'Titular'}, '178829': {'nome': 'Capitão Augusto', 'partido': 'PL', 'uf': 'SP', 'condicao': 'Titular'}, '66828': {'nome': 'Fausto Pinato', 'partido': 'PP', 'uf': 'SP', 'condicao': 'Titular'}, '107970': {'nome': 'Ana Paula Leão', 'partido': 'PP', 'uf': 'MG', 'condicao': 'Titular'}, '204535': {'nome': 'Sâmia Bomfim', 'partido': 'PSOL', 'uf': 'SP', 'condicao': 'Titular'}, '220552': {'nome': 'Zucco', 'partido': 'PL', 'uf': 'RS', 'condicao': 'Titular'}, '220561': {'nome': 'Delegada Katarina', 'partido': 'PSD', 'uf': 'SE', 'condicao': 'Titular'}, '220577': {'nome': 'Augusto Puppio', 'partido': 'MDB', 'uf': 'AP', 'condicao': 'Titular'}, '220649': {'nome': 'Delegado da Cunha', 'partido': 'PP', 'uf': 'SP', 'condicao': 'Titular'}, '178887': {'nome': 'Rubens Pereira Júnior', 'partido': 'PT', 'uf': 'MA', 'condicao': 'Titular'}, '178943': {'nome': 'Marcos Soares', 'partido': 'UNIÃO', 'uf': 'RJ', 'condicao': 'Titular'}, '220543': {'nome': 'Ricardo Ayres', 'partido': 'REPUBLICANOS', 'uf': 'TO', 'condicao': 'Titular'}, '92346': {'nome': 'Eduardo Bolsonaro', 'partido': 'PL', 'uf': 'SP', 'condicao': 'Titular'}, '72442': {'nome': 'Felipe Carreras', 'partido': 'PSB', 'uf': 'PE', 'condicao': 'Titular'}, '178947': {'nome': 'Sóstenes Cavalcante', 'partido': 'PL', 'uf': 'RJ', 'condicao': 'Titular'}, '220565': {'nome': 'Delegada Adriana Accorsi', 'partido': 'PT', 'uf': 'GO', 'condicao': 'Titular'}, '73768': {'nome': 'Dilceu Sperafico', 'partido': 'PP', 'uf': 'PR', 'condicao': 'Titular'}, '121948': {'nome': 'Adriano do Baldy', 'partido': 'PP', 'uf': 'GO', 'condicao': 'Titular'}, '209787': {'nome': 'Nikolas Ferreira', 'partido': 'PL', 'uf': 'MG', 'condicao': 'Titular'}, '74158': {'nome': 'Mário Heringer', 'partido': 'PDT', 'uf': 'MG', 'condicao': 'Titular'}, '74171': {'nome': 'Chico Alencar', 'partido': 'PSOL', 'uf': 'RJ', 'condicao': 'Titular'}, '204456': {'nome': 'Gutemberg Reis', 'partido': 'MDB', 'uf': 'RJ', 'condicao': 'Titular'}, '204540': {'nome': 'Maria Rosas', 'partido': 'REPUBLICANOS', 'uf': 'SP', 'condicao': 'Titular'}, '220715': {'nome': 'Amom Mandel', 'partido': 'CIDADANIA', 'uf': 'AM', 'condicao': 'Titular'}, '226837': {'nome': 'Saulo Pedroso', 'partido': 'PSD', 'uf': 'SP', 'condicao': 'Efetivado'}, '137070': {'nome': 'Vicentinho Júnior', 'partido': 'PP', 'uf': 'TO', 'condicao': 'Titular'}, '141480': {'nome': 'Lázaro Botelho', 'partido': 'PP', 'uf': 'TO', 'condicao': 'Titular'}, '122974': {'nome': 'Pedro Lucas Fernandes', 'partido': 'UNIÃO', 'uf': 'MA', 'condicao': 'Titular'}, '160556': {'nome': 'Padre João', 'partido': 'PT', 'uf': 'MG', 'condicao': 'Titular'}, '220549': {'nome': 'Any Ortiz', 'partido': 'CIDADANIA', 'uf': 'RS', 'condicao': 'Titular'}, '171617': {'nome': 'Paulão', 'partido': 'PT', 'uf': 'AL', 'condicao': 'Titular'}, '204355': {'nome': 'Da Vitoria', 'partido': 'PP', 'uf': 'ES', 'condicao': 'Titular'}, '204473': {'nome': 'General Girão', 'partido': 'PL', 'uf': 'RN', 'condicao': 'Titular'}, '206018': {'nome': 'Célia Xakriabá', 'partido': 'PSOL', 'uf': 'MG', 'condicao': 'Titular'}, '204408': {'nome': 'Gustinho Ribeiro', 'partido': 'REPUBLICANOS', 'uf': 'SE', 'condicao': 'Titular'}, '220683': {'nome': 'Beto Richa', 'partido': 'PSDB', 'uf': 'PR', 'condicao': 'Titular'}, '74057': {'nome': 'Alice Portugal', 'partido': 'PCdoB', 'uf': 'BA', 'condicao': 'Titular'}, '109429': {'nome': 'Benes Leocádio', 'partido': 'UNIÃO', 'uf': 'RN', 'condicao': 'Titular'}, '204387': {'nome': 'Sargento Fahur', 'partido': 'PSD', 'uf': 'PR', 'condicao': 'Titular'}, '220563': {'nome': 'Icaro de Valmir', 'partido': 'PL', 'uf': 'SE', 'condicao': 'Titular'}, '104552': {'nome': 'Socorro Neri', 'partido': 'PP', 'uf': 'AC', 'condicao': 'Titular'}, '204453': {'nome': 'Natália Bonavides', 'partido': 'PT', 'uf': 'RN', 'condicao': 'Titular'}, '74159': {'nome': 'Odair Cunha', 'partido': 'PT', 'uf': 'MG', 'condicao': 'Titular'}, '204356': {'nome': 'Amaro Neto', 'partido': 'REPUBLICANOS', 'uf': 'ES', 'condicao': 'Titular'}, '220547': {'nome': 'Marcos Pollon', 'partido': 'PL', 'uf': 'MS', 'condicao': 'Titular'}, '74041': {'nome': 'Luiz Couto', 'partido': 'PT', 'uf': 'PB', 'condicao': 'Titular'}, '204549': {'nome': 'AJ Albuquerque', 'partido': 'PP', 'uf': 'CE', 'condicao': 'Titular'}, '220652': {'nome': 'Delegado Palumbo', 'partido': 'MDB', 'uf': 'SP', 'condicao': 'Titular'}, '220627': {'nome': 'Paulinho Freire', 'partido': 'UNIÃO', 'uf': 'RN', 'condicao': 'Titular'}, '160518': {'nome': 'Weliton Prado', 'partido': 'SOLIDARIEDADE', 'uf': 'MG', 'condicao': 'Titular'}, '160674': {'nome': 'Hugo Motta', 'partido': 'REPUBLICANOS', 'uf': 'PB', 'condicao': 'Titular'}, '220527': {'nome': 'Jack Rocha', 'partido': 'PT', 'uf': 'ES', 'condicao': 'Titular'}, '178972': {'nome': 'Alex Manente', 'partido': 'CIDADANIA', 'uf': 'SP', 'condicao': 'Titular'}, '179000': {'nome': 'Marcelo Álvaro Antônio', 'partido': 'PL', 'uf': 'MG', 'condicao': 'Titular'}, '204560': {'nome': 'Adolfo Viana', 'partido': 'PSDB', 'uf': 'BA', 'condicao': 'Titular'}, '204450': {'nome': 'Doutor Luizinho', 'partido': 'PP', 'uf': 'RJ', 'condicao': 'Titular'}, '74696': {'nome': 'Alberto Mourão', 'partido': 'MDB', 'uf': 'SP', 'condicao': 'Titular'}, '220691': {'nome': 'Diego Coronel', 'partido': 'PSD', 'uf': 'BA', 'condicao': 'Titular'}, '160541': {'nome': 'Arthur Lira', 'partido': 'PP', 'uf': 'AL', 'condicao': 'Titular'}, '160527': {'nome': 'Aguinaldo Ribeiro', 'partido': 'PP', 'uf': 'PB', 'condicao': 'Titular'}, '73531': {'nome': 'Ivan Valente', 'partido': 'PSOL', 'uf': 'SP', 'condicao': 'Suplente'}, '62881': {'nome': 'Danilo Forte', 'partido': 'UNIÃO', 'uf': 'CE', 'condicao': 'Titular'}, '204472': {'nome': 'José Medeiros', 'partido': 'PL', 'uf': 'MT', 'condicao': 'Titular'}, '139285': {'nome': 'Lídice da Mata', 'partido': 'PSB', 'uf': 'BA', 'condicao': 'Titular'}, '141555': {'nome': 'Vinicius Carvalho', 'partido': 'REPUBLICANOS', 'uf': 'SP', 'condicao': 'Titular'}, '73441': {'nome': 'Celso Russomanno', 'partido': 'REPUBLICANOS', 'uf': 'SP', 'condicao': 'Titular'}, '178964': {'nome': 'Heitor Schuch', 'partido': 'PSB', 'uf': 'RS', 'condicao': 'Titular'}, '74044': {'nome': 'Wilson Santiago', 'partido': 'REPUBLICANOS', 'uf': 'PB', 'condicao': 'Titular'}, '220605': {'nome': 'Bandeira de Mello', 'partido': 'PSB', 'uf': 'RJ', 'condicao': 'Titular'}, '204517': {'nome': 'Zé Vitor', 'partido': 'PL', 'uf': 'MG', 'condicao': 'Titular'}, '74043': {'nome': 'Wellington Roberto', 'partido': 'PL', 'uf': 'PB', 'condicao': 'Titular'}, '141398': {'nome': 'Carlos Zarattini', 'partido': 'PT', 'uf': 'SP', 'condicao': 'Titular'}, '204489': {'nome': 'Robério Monteiro', 'partido': 'PDT', 'uf': 'CE', 'condicao': 'Titular'}, '220639': {'nome': 'Guilherme Boulos', 'partido': 'PSOL', 'uf': 'SP', 'condicao': 'Titular'}, '220663': {'nome': 'Eriberto Medeiros', 'partido': 'PSB', 'uf': 'PE', 'condicao': 'Titular'}, '178946': {'nome': 'Soraya Santos', 'partido': 'PL', 'uf': 'RJ', 'condicao': 'Titular'}, '160517': {'nome': 'Paulo Folletto', 'partido': 'PSB', 'uf': 'ES', 'condicao': 'Titular'}, '220633': {'nome': 'Ricardo Salles', 'partido': 'PL', 'uf': 'SP', 'condicao': 'Titular'}, '74550': {'nome': 'João Leão', 'partido': 'PP', 'uf': 'BA', 'condicao': 'Titular'}, '162067': {'nome': 'Kiko Celeguim', 'partido': 'PT', 'uf': 'SP', 'condicao': 'Titular'}, '204436': {'nome': 'Isnaldo Bulhões Jr.', 'partido': 'MDB', 'uf': 'AL', 'condicao': 'Titular'}, '204506': {'nome': 'Marcos Pereira', 'partido': 'REPUBLICANOS', 'uf': 'SP', 'condicao': 'Titular'}, '220592': {'nome': 'Zezinho Barbary', 'partido': 'PP', 'uf': 'AC', 'condicao': 'Titular'}, '74253': {'nome': 'Julio Lopes', 'partido': 'PP', 'uf': 'RJ', 'condicao': 'Titular'}, '178929': {'nome': 'Diego Garcia', 'partido': 'REPUBLICANOS', 'uf': 'PR', 'condicao': 'Titular'}, '198197': {'nome': 'Greyce Elias', 'partido': 'AVANTE', 'uf': 'MG', 'condicao': 'Titular'}, '204485': {'nome': 'Luiz Carlos Motta', 'partido': 'PL', 'uf': 'SP', 'condicao': 'Titular'}, '160976': {'nome': 'Tiririca', 'partido': 'PL', 'uf': 'SP', 'condicao': 'Titular'}, '227433': {'nome': 'Douglas Viegas', 'partido': 'UNIÃO', 'uf': 'SP', 'condicao': 'Suplente'}, '220601': {'nome': 'Washington Quaquá', 'partido': 'PT', 'uf': 'RJ', 'condicao': 'Titular'}, '205476': {'nome': 'Charles Fernandes', 'partido': 'PSD', 'uf': 'BA', 'condicao': 'Suplente'}, '220622': {'nome': 'Nely Aquino', 'partido': 'PODE', 'uf': 'MG', 'condicao': 'Titular'}, '220641': {'nome': 'Rodrigo Gambale', 'partido': 'PODE', 'uf': 'SP', 'condicao': 'Titular'}, '204441': {'nome': 'Otoni de Paula', 'partido': 'MDB', 'uf': 'RJ', 'condicao': 'Titular'}, '204464': {'nome': 'Talíria Petrone', 'partido': 'PSOL', 'uf': 'RJ', 'condicao': 'Titular'}, '178895': {'nome': 'Misael Varella', 'partido': 'PSD', 'uf': 'MG', 'condicao': 'Titular'}, '160575': {'nome': 'Erika Kokay', 'partido': 'PT', 'uf': 'DF', 'condicao': 'Titular'}, '220609': {'nome': 'Maurício Carvalho', 'partido': 'UNIÃO', 'uf': 'RO', 'condicao': 'Titular'}, '178963': {'nome': 'Covatti Filho', 'partido': 'PP', 'uf': 'RS', 'condicao': 'Titular'}, '74090': {'nome': 'Átila Lins', 'partido': 'PSD', 'uf': 'AM', 'condicao': 'Titular'}, '141431': {'nome': 'Fernando Coelho Filho', 'partido': 'UNIÃO', 'uf': 'PE', 'condicao': 'Titular'}, '141470': {'nome': 'José Guimarães', 'partido': 'PT', 'uf': 'CE', 'condicao': 'Titular'}, '204390': {'nome': 'Professor Alcides', 'partido': 'PL', 'uf': 'GO', 'condicao': 'Titular'}, '122158': {'nome': 'Pedro Paulo', 'partido': 'PSD', 'uf': 'RJ', 'condicao': 'Titular'}, '220586': {'nome': 'Rafael Brito', 'partido': 'MDB', 'uf': 'AL', 'condicao': 'Titular'}, '227324': {'nome': 'Henrique Júnior', 'partido': 'PL', 'uf': 'MA', 'condicao': 'Suplente'}, '141516': {'nome': 'Paulo Abi-Ackel', 'partido': 'PSDB', 'uf': 'MG', 'condicao': 'Titular'}, '213274': {'nome': 'Ricardo Silva', 'partido': 'PSD', 'uf': 'SP', 'condicao': 'Titular'}, '204536': {'nome': 'Kim Kataguiri', 'partido': 'UNIÃO', 'uf': 'SP', 'condicao': 'Titular'}, '220702': {'nome': 'Geraldo Mendes', 'partido': 'UNIÃO', 'uf': 'PR', 'condicao': 'Titular'}, '98057': {'nome': 'Lafayette de Andrada', 'partido': 'REPUBLICANOS', 'uf': 'MG', 'condicao': 'Titular'}, '180214': {'nome': 'Pastor Diniz', 'partido': 'UNIÃO', 'uf': 'RR', 'condicao': 'Titular'}, '220579': {'nome': 'Silvia Waiãpi', 'partido': 'PL', 'uf': 'AP', 'condicao': 'Titular'}, '220600': {'nome': 'Lebrão', 'partido': 'UNIÃO', 'uf': 'RO', 'condicao': 'Titular'}, '205865': {'nome': 'Reinhold Stephanes', 'partido': 'PSD', 'uf': 'PR', 'condicao': 'Suplente'}, '221329': {'nome': 'Ricardo Abrão', 'partido': 'UNIÃO', 'uf': 'RJ', 'condicao': 'Suplente'}, '204423': {'nome': 'André Ferreira', 'partido': 'PL', 'uf': 'PE', 'condicao': 'Titular'}, '220692': {'nome': 'Dal Barreto', 'partido': 'UNIÃO', 'uf': 'BA', 'condicao': 'Titular'}, '88256': {'nome': 'Clodoaldo Magalhães', 'partido': 'PV', 'uf': 'PE', 'condicao': 'Titular'}, '204534': {'nome': 'Tabata Amaral', 'partido': 'PSB', 'uf': 'SP', 'condicao': 'Titular'}, '220597': {'nome': 'Thiago Flores', 'partido': 'REPUBLICANOS', 'uf': 'RO', 'condicao': 'Titular'}, '220610': {'nome': 'Dr. Fernando Máximo', 'partido': 'UNIÃO', 'uf': 'RO', 'condicao': 'Titular'}, '220608': {'nome': 'Cristiane Lopes', 'partido': 'UNIÃO', 'uf': 'RO', 'condicao': 'Titular'}, '204407': {'nome': 'Fernanda Melchionna', 'partido': 'PSOL', 'uf': 'RS', 'condicao': 'Titular'}, '160632': {'nome': 'Zé Silva', 'partido': 'SOLIDARIEDADE', 'uf': 'MG', 'condicao': 'Titular'}, '160588': {'nome': 'Diego Andrade', 'partido': 'PSD', 'uf': 'MG', 'condicao': 'Titular'}, '204504': {'nome': 'Cezinha de Madureira', 'partido': 'PSD', 'uf': 'SP', 'condicao': 'Titular'}, '220658': {'nome': 'Luiz Gastão', 'partido': 'PSD', 'uf': 'CE', 'condicao': 'Titular'}, '204379': {'nome': 'Acácio Favacho', 'partido': 'MDB', 'uf': 'AP', 'condicao': 'Titular'}, '227370': {'nome': 'Felipe Saliba', 'partido': 'PRD', 'uf': 'MG', 'condicao': 'Suplente'}, '227401': {'nome': 'Dr Fabio Rueda', 'partido': 'UNIÃO', 'uf': 'AC', 'condicao': 'Suplente'}, '204557': {'nome': 'Sidney Leite', 'partido': 'PSD', 'uf': 'AM', 'condicao': 'Titular'}, '74383': {'nome': 'Giacobo', 'partido': 'PL', 'uf': 'PR', 'condicao': 'Titular'}, '162332': {'nome': 'Luiz Nishimori', 'partido': 'PSD', 'uf': 'PR', 'condicao': 'Titular'}, '73486': {'nome': 'Pompeo de Mattos', 'partido': 'PDT', 'uf': 'RS', 'condicao': 'Titular'}, '107283': {'nome': 'Gleisi Hoffmann', 'partido': 'PT', 'uf': 'PR', 'condicao': 'Titular'}, '204571': {'nome': 'Alex Santana', 'partido': 'REPUBLICANOS', 'uf': 'BA', 'condicao': 'Titular'}, '204395': {'nome': 'Pedro Lupion', 'partido': 'PP', 'uf': 'PR', 'condicao': 'Titular'}, '74079': {'nome': 'José Priante', 'partido': 'MDB', 'uf': 'PA', 'condicao': 'Titular'}, '123756': {'nome': 'Antônia Lúcia', 'partido': 'REPUBLICANOS', 'uf': 'AC', 'condicao': 'Titular'}, '220544': {'nome': 'Antonio Andrade', 'partido': 'REPUBLICANOS', 'uf': 'TO', 'condicao': 'Titular'}, '171623': {'nome': 'Fabio Reis', 'partido': 'PSD', 'uf': 'SE', 'condicao': 'Titular'}, '220653': {'nome': 'Fábio Teruel', 'partido': 'MDB', 'uf': 'SP', 'condicao': 'Titular'}, '178835': {'nome': 'Afonso Motta', 'partido': 'PDT', 'uf': 'RS', 'condicao': 'Titular'}, '178997': {'nome': 'Moses Rodrigues', 'partido': 'UNIÃO', 'uf': 'CE', 'condicao': 'Titular'}, '220647': {'nome': 'Mauricio Neves', 'partido': 'PP', 'uf': 'SP', 'condicao': 'Titular'}, '160758': {'nome': 'Domingos Sávio', 'partido': 'PL', 'uf': 'MG', 'condicao': 'Titular'}, '160601': {'nome': 'Pr. Marco Feliciano', 'partido': 'PL', 'uf': 'SP', 'condicao': 'Titular'}, '141518': {'nome': 'Paulinho da Força', 'partido': 'SOLIDARIEDADE', 'uf': 'SP', 'condicao': 'Efetivado'}, '179001': {'nome': 'Márcio Biolchi', 'partido': 'MDB', 'uf': 'RS', 'condicao': 'Titular'}, '220638': {'nome': 'Antonio Carlos Rodrigues', 'partido': 'PL', 'uf': 'SP', 'condicao': 'Titular'}, '178992': {'nome': 'Vitor Lippi', 'partido': 'PSDB', 'uf': 'SP', 'condicao': 'Titular'}, '73579': {'nome': 'Alberto Fraga', 'partido': 'PL', 'uf': 'DF', 'condicao': 'Titular'}, '204367': {'nome': 'Daniel Freitas', 'partido': 'PL', 'uf': 'SC', 'condicao': 'Titular'}, '178989': {'nome': 'Renata Abreu', 'partido': 'PODE', 'uf': 'SP', 'condicao': 'Titular'}, '220712': {'nome': 'Fausto Santos Jr.', 'partido': 'UNIÃO', 'uf': 'AM', 'condicao': 'Titular'}, '204567': {'nome': 'Raimundo Costa', 'partido': 'PODE', 'uf': 'BA', 'condicao': 'Titular'}, '143632': {'nome': 'Domingos Neto', 'partido': 'PSD', 'uf': 'CE', 'condicao': 'Titular'}, '160665': {'nome': 'Augusto Coutinho', 'partido': 'REPUBLICANOS', 'uf': 'PE', 'condicao': 'Titular'}, '204479': {'nome': 'Nicoletti', 'partido': 'UNIÃO', 'uf': 'RR', 'condicao': 'Titular'}, '204474': {'nome': 'Juarez Costa', 'partido': 'MDB', 'uf': 'MT', 'condicao': 'Titular'}, '73806': {'nome': 'Roseana Sarney', 'partido': 'MDB', 'uf': 'MA', 'condicao': 'Titular'}, '178987': {'nome': 'Orlando Silva', 'partido': 'PCdoB', 'uf': 'SP', 'condicao': 'Suplente'}, '220575': {'nome': 'Sonize Barbosa', 'partido': 'PL', 'uf': 'AP', 'condicao': 'Titular'}, '160569': {'nome': 'Waldenor Pereira', 'partido': 'PT', 'uf': 'BA', 'condicao': 'Titular'}, '133810': {'nome': 'Marcelo Moraes', 'partido': 'PL', 'uf': 'RS', 'condicao': 'Titular'}, '160545': {'nome': 'Alexandre Leite', 'partido': 'UNIÃO', 'uf': 'SP', 'condicao': 'Titular'}, '215043': {'nome': 'Josivaldo JP', 'partido': 'PSD', 'uf': 'MA', 'condicao': 'Titular'}, '74075': {'nome': 'Elcione Barbalho', 'partido': 'MDB', 'uf': 'PA', 'condicao': 'Titular'}, '220646': {'nome': 'Felipe Becari', 'partido': 'UNIÃO', 'uf': 'SP', 'condicao': 'Titular'}, '74160': {'nome': 'Patrus Ananias', 'partido': 'PT', 'uf': 'MG', 'condicao': 'Titular'}, '74646': {'nome': 'Aécio Neves', 'partido': 'PSDB', 'uf': 'MG', 'condicao': 'Titular'}, '220687': {'nome': 'Márcio Honaiser', 'partido': 'PDT', 'uf': 'MA', 'condicao': 'Titular'}, '204559': {'nome': 'Zé Neto', 'partido': 'PT', 'uf': 'BA', 'condicao': 'Titular'}, '204444': {'nome': 'Helio Lopes', 'partido': 'PL', 'uf': 'RJ', 'condicao': 'Titular'}, '92776': {'nome': 'Stefano Aguiar', 'partido': 'PSD', 'uf': 'MG', 'condicao': 'Titular'}, '178858': {'nome': 'Mário Negromonte Jr.', 'partido': 'PP', 'uf': 'BA', 'condicao': 'Titular'}, '220693': {'nome': 'Roberta Roma', 'partido': 'PL', 'uf': 'BA', 'condicao': 'Titular'}, '204566': {'nome': 'Marreca Filho', 'partido': 'PRD', 'uf': 'MA', 'condicao': 'Titular'}, '204498': {'nome': 'Olival Marques', 'partido': 'MDB', 'uf': 'PA', 'condicao': 'Titular'}, '204520': {'nome': 'Junio Amaral', 'partido': 'PL', 'uf': 'MG', 'condicao': 'Titular'}, '220534': {'nome': 'Fred Linhares', 'partido': 'REPUBLICANOS', 'uf': 'DF', 'condicao': 'Titular'}, '220573': {'nome': 'Dorinaldo Malafaia', 'partido': 'PDT', 'uf': 'AP', 'condicao': 'Titular'}, '74270': {'nome': 'Gilberto Nascimento', 'partido': 'PSD', 'uf': 'SP', 'condicao': 'Titular'}, '178975': {'nome': 'Baleia Rossi', 'partido': 'MDB', 'uf': 'SP', 'condicao': 'Titular'}, '74478': {'nome': 'Luciano Bivar', 'partido': 'UNIÃO', 'uf': 'PE', 'condicao': 'Titular'}, '141531': {'nome': 'Rodrigo de Castro', 'partido': 'UNIÃO', 'uf': 'MG', 'condicao': 'Titular'}, '204391': {'nome': 'José Nelto', 'partido': 'PP', 'uf': 'GO', 'condicao': 'Titular'}, '220589': {'nome': 'Eduardo Velloso', 'partido': 'UNIÃO', 'uf': 'AC', 'condicao': 'Titular'}, '178962': {'nome': 'Carlos Gomes', 'partido': 'REPUBLICANOS', 'uf': 'RS', 'condicao': 'Titular'}, '220567': {'nome': 'Jeferson Rodrigues', 'partido': 'REPUBLICANOS', 'uf': 'GO', 'condicao': 'Titular'}, '204494': {'nome': 'Fred Costa', 'partido': 'PRD', 'uf': 'MG', 'condicao': 'Titular'}, '160508': {'nome': 'Afonso Florence', 'partido': 'PT', 'uf': 'BA', 'condicao': 'Titular'}, '160552': {'nome': 'Danrlei de Deus Hinterholz', 'partido': 'PSD', 'uf': 'RS', 'condicao': 'Titular'}, '204433': {'nome': 'Marcelo Calero', 'partido': 'PSD', 'uf': 'RJ', 'condicao': 'Suplente'}, '225386': {'nome': 'Renan Ferreirinha', 'partido': 'PSD', 'uf': 'RJ', 'condicao': 'Suplente'}, '204574': {'nome': 'Junior Lourenço', 'partido': 'PL', 'uf': 'MA', 'condicao': 'Titular'}, '73808': {'nome': 'Sérgio Brito', 'partido': 'PSD', 'uf': 'BA', 'condicao': 'Titular'}, '226410': {'nome': 'Márcio Correa', 'partido': 'MDB', 'uf': 'GO', 'condicao': 'Suplente'}, '220689': {'nome': 'Detinha', 'partido': 'PL', 'uf': 'MA', 'condicao': 'Titular'}, '204563': {'nome': 'Josimar Maranhãozinho', 'partido': 'PL', 'uf': 'MA', 'condicao': 'Titular'}, '220614': {'nome': 'Dr. Daniel Soranz', 'partido': 'PSD', 'uf': 'RJ', 'condicao': 'Titular'}, '220634': {'nome': 'Marcelo Lima', 'partido': 'PSB', 'uf': 'SP', 'condicao': 'Titular'}, '204570': {'nome': 'Pastor Gil', 'partido': 'PL', 'uf': 'MA', 'condicao': 'Titular'}, '141450': {'nome': 'Hugo Leal', 'partido': 'PSD', 'uf': 'RJ', 'condicao': 'Titular'}, '178881': {'nome': 'Aluisio Mendes', 'partido': 'REPUBLICANOS', 'uf': 'MA', 'condicao': 'Titular'}, '220698': {'nome': 'Beto Preto', 'partido': 'PSD', 'uf': 'PR', 'condicao': 'Titular'}, '160621': {'nome': 'Sandro Alex', 'partido': 'PSD', 'uf': 'PR', 'condicao': 'Titular'}, '73788': {'nome': 'Ricardo Barros', 'partido': 'PP', 'uf': 'PR', 'condicao': 'Titular'}, '178945': {'nome': 'Rosangela Gomes', 'partido': 'REPUBLICANOS', 'uf': 'RJ', 'condicao': 'Titular'}, '204362': {'nome': 'Ricardo Guidi', 'partido': 'PL', 'uf': 'SC', 'condicao': 'Titular'}, '164360': {'nome': 'Carmen Zanotto', 'partido': 'CIDADANIA', 'uf': 'SC', 'condicao': 'Titular'}, '178832': {'nome': 'Leandre', 'partido': 'PSD', 'uf': 'PR', 'condicao': 'Titular'}, '226553': {'nome': 'Eliane Braz', 'partido': 'PSD', 'uf': 'CE', 'condicao': 'Suplente'}, '74299': {'nome': 'Leônidas Cristino', 'partido': 'PDT', 'uf': 'CE', 'condicao': 'Suplente'}, '226075': {'nome': 'Priscila Costa', 'partido': 'PL', 'uf': 'CE', 'condicao': 'Suplente'}, '204372': {'nome': 'Julio Cesar Ribeiro', 'partido': 'REPUBLICANOS', 'uf': 'DF', 'condicao': 'Titular'}, '225730': {'nome': 'Enfermeira Ana Paula', 'partido': 'PDT', 'uf': 'CE', 'condicao': 'Suplente'}, '225727': {'nome': 'Flavinha', 'partido': 'MDB', 'uf': 'MT', 'condicao': 'Suplente'}, '204522': {'nome': 'Marco Bertaiolli', 'partido': 'PSD', 'uf': 'SP', 'condicao': 'Titular'}, '204448': {'nome': 'Luiz Antonio Corrêa', 'partido': 'PP', 'uf': 'RJ', 'condicao': 'Suplente'}, '204425': {'nome': 'Silvio Costa Filho', 'partido': 'REPUBLICANOS', 'uf': 'PE', 'condicao': 'Titular'}, '178882': {'nome': 'André Fufuca', 'partido': 'PP', 'uf': 'MA', 'condicao': 'Titular'}, '178905': {'nome': 'Fabio Garcia', 'partido': 'UNIÃO', 'uf': 'MT', 'condicao': 'Titular'}, '154178': {'nome': 'Milton Vieira', 'partido': 'REPUBLICANOS', 'uf': 'SP', 'condicao': 'Titular'}, '220705': {'nome': 'Deltan Dallagnol', 'partido': 'PODE', 'uf': 'PR', 'condicao': 'Não Eleito'}})"
      ]
     },
     "execution_count": 23,
     "metadata": {},
     "output_type": "execute_result"
    }
   ],
   "source": [
    "G.nodes(data= True)"
   ]
  },
  {
   "cell_type": "code",
   "execution_count": 24,
   "metadata": {},
   "outputs": [],
   "source": [
    "I = forceatlas2(G=nx.to_numpy_array(G, weight= 'concordancia'))\n"
   ]
  },
  {
   "cell_type": "code",
   "execution_count": 25,
   "metadata": {},
   "outputs": [],
   "source": [
    "positions_dict = {node:{'x':I[i][0], 'y':I[i][1]} for i, node in enumerate(G.nodes)}\n",
    "\n",
    "nx.set_node_attributes(G, positions_dict)"
   ]
  },
  {
   "cell_type": "code",
   "execution_count": 26,
   "metadata": {},
   "outputs": [],
   "source": [
    "# grafo = pd.DataFrame(G.edges(data=True))\n",
    "\n",
    "# conc = pd.DataFrame(list(grafo[2]))\n",
    "# conc['concordancia'] = conc['concordancia'].astype(np.float32)\n",
    "\n",
    "# grafo[2] = conc.to_dict('records')\n",
    "\n",
    "# for row in range(grafo.shape[0]):\n",
    "#     G.add_edge(grafo.loc[row, 0], grafo.iloc[row, 1], **grafo.iloc[row, 2])"
   ]
  },
  {
   "cell_type": "code",
   "execution_count": 27,
   "metadata": {},
   "outputs": [],
   "source": [
    "# grafo = pd.DataFrame(G.nodes(data=True))\n",
    "# data = pd.DataFrame(list(grafo[1]))\n",
    "# data['x'] = data['x'].astype(np.float32)\n",
    "# data['y'] = data['y'].astype(np.float32)\n",
    "# grafo[1] = data.to_dict('records')\n",
    "\n",
    "# for row in range(grafo.shape[0]):\n",
    "#     G.add_node(grafo.loc[row, 0], **grafo.iloc[row, 1])"
   ]
  },
  {
   "cell_type": "code",
   "execution_count": 28,
   "metadata": {},
   "outputs": [],
   "source": [
    "I = forceatlas2(G=nx.to_numpy_array(G, weight= 'concordancia'))\n"
   ]
  },
  {
   "cell_type": "code",
   "execution_count": 29,
   "metadata": {},
   "outputs": [],
   "source": [
    "\n",
    "positions_dict = {node:{'x':I[i][0], 'y':I[i][1]} for i, node in enumerate(G.nodes)}\n",
    "\n",
    "nx.set_node_attributes(G, positions_dict)"
   ]
  },
  {
   "cell_type": "code",
   "execution_count": 30,
   "metadata": {},
   "outputs": [],
   "source": [
    "sigma.Sigma.set_defaults(800, max_categorical_colors= 50, node_size_range= 5)"
   ]
  },
  {
   "cell_type": "code",
   "execution_count": 31,
   "metadata": {},
   "outputs": [],
   "source": [
    "def densidade(g: nx.Graph)-> float:\n",
    "    n = len(g.nodes())\n",
    "    m = len(g.edges())\n",
    "    return (2 * m) / (n * (n-1))"
   ]
  },
  {
   "cell_type": "code",
   "execution_count": 32,
   "metadata": {},
   "outputs": [
    {
     "data": {
      "text/plain": [
       "0.9932416170683319"
      ]
     },
     "execution_count": 32,
     "metadata": {},
     "output_type": "execute_result"
    }
   ],
   "source": [
    "densidade(G)"
   ]
  },
  {
   "cell_type": "code",
   "execution_count": 33,
   "metadata": {},
   "outputs": [
    {
     "data": {
      "application/vnd.jupyter.widget-view+json": {
       "model_id": "82c39e3fd7e4470c96abf044def64ad9",
       "version_major": 2,
       "version_minor": 0
      },
      "text/plain": [
       "Sigma(nx.Graph with 555 nodes and 152,696 edges)"
      ]
     },
     "execution_count": 33,
     "metadata": {},
     "output_type": "execute_result"
    }
   ],
   "source": [
    "sigma.Sigma(G, node_color= \"partido\", node_label= 'nome')"
   ]
  },
  {
   "cell_type": "markdown",
   "metadata": {},
   "source": []
  },
  {
   "cell_type": "code",
   "execution_count": 34,
   "metadata": {},
   "outputs": [],
   "source": [
    "# sigma.Sigma(G, node_color= \"partido\", node_label= 'nome').to_html('teste.html')"
   ]
  },
  {
   "cell_type": "markdown",
   "metadata": {},
   "source": [
    "# BB"
   ]
  },
  {
   "cell_type": "code",
   "execution_count": 35,
   "metadata": {},
   "outputs": [],
   "source": [
    "with open('data/bb.pkl', 'rb') as file:\n",
    "    Gbb = pickle.load(file)"
   ]
  },
  {
   "cell_type": "code",
   "execution_count": 36,
   "metadata": {},
   "outputs": [],
   "source": [
    "\n",
    "I = forceatlas2(G=nx.to_numpy_array(Gbb,  weight= 'concordancia'))\n"
   ]
  },
  {
   "cell_type": "code",
   "execution_count": 37,
   "metadata": {},
   "outputs": [],
   "source": [
    "positions_dict = {node:{'x':I[i][0], 'y':I[i][1]} for i, node in enumerate(Gbb.nodes)}\n",
    "\n",
    "nx.set_node_attributes(Gbb, positions_dict)"
   ]
  },
  {
   "cell_type": "code",
   "execution_count": 38,
   "metadata": {},
   "outputs": [
    {
     "data": {
      "text/plain": [
       "(21,)"
      ]
     },
     "execution_count": 38,
     "metadata": {},
     "output_type": "execute_result"
    }
   ],
   "source": [
    "import pandas as pd\n",
    "teste = pd.DataFrame(dict(Gbb.nodes(data= True)).values())\n",
    "teste['partido'].unique().shape"
   ]
  },
  {
   "cell_type": "code",
   "execution_count": 39,
   "metadata": {},
   "outputs": [
    {
     "data": {
      "text/plain": [
       "0.11403615805421674"
      ]
     },
     "execution_count": 39,
     "metadata": {},
     "output_type": "execute_result"
    }
   ],
   "source": [
    "densidade(Gbb)"
   ]
  },
  {
   "cell_type": "code",
   "execution_count": 40,
   "metadata": {},
   "outputs": [
    {
     "data": {
      "application/vnd.jupyter.widget-view+json": {
       "model_id": "93a19907a824432d986a54059a22b1c7",
       "version_major": 2,
       "version_minor": 0
      },
      "text/plain": [
       "Sigma(nx.Graph with 444 nodes and 11,215 edges)"
      ]
     },
     "execution_count": 40,
     "metadata": {},
     "output_type": "execute_result"
    }
   ],
   "source": [
    "sigma.Sigma(Gbb, node_color= \"partido\", node_label= 'nome')"
   ]
  }
 ],
 "metadata": {
  "kernelspec": {
   "display_name": "Python 3",
   "language": "python",
   "name": "python3"
  },
  "language_info": {
   "codemirror_mode": {
    "name": "ipython",
    "version": 3
   },
   "file_extension": ".py",
   "mimetype": "text/x-python",
   "name": "python",
   "nbconvert_exporter": "python",
   "pygments_lexer": "ipython3",
   "version": "3.10.12"
  }
 },
 "nbformat": 4,
 "nbformat_minor": 2
}
